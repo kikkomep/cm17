{
 "cells": [
  {
   "cell_type": "markdown",
   "metadata": {},
   "source": [
    "# Exercise 3: *automatic test generation*"
   ]
  },
  {
   "cell_type": "markdown",
   "metadata": {},
   "source": [
    "* **Goal: ** explain how to generate a test case from a Galaxy history which represents your test case.\n",
    "\n",
    "\n",
    "* **Scenario: ** You have a Galaxy history resulting from a succeful workflow execution and you'd like to generate a test case to check whether when your workflow will be executed with the same input of that execution it will always produce the same output.\n",
    "\n",
    "\n",
    "* **Prerequisites: ** a Galaxy instance with the PhenoMeNal tools and workflows installed. Especially, in this tutorial, we'll use the *\"Fluxomics stationary 13C-MS iso2flux\"* workflow already provided by the Phenomenal deployment.\n",
    "\n",
    "\n",
    "* **Main steps:** \n",
    "    1. *Obtain a Galaxy workflow*\n",
    "    2. *Create a test case using the `wizard` tool*\n",
    "    3. *Run the test case*"
   ]
  },
  {
   "cell_type": "markdown",
   "metadata": {},
   "source": [
    "## 1. Obtain a Galaxy history"
   ]
  },
  {
   "cell_type": "markdown",
   "metadata": {},
   "source": [
    "As a first step, we need to prepare the Galaxy history which will represent our successful workflow execution.\n",
    "We will use the PhenoMeNal workflow *\"Fluxomics stationary 13C-MS iso2flux\"* as a workflow example.\n",
    "\n",
    "Go through the following steps:\n",
    "\n",
    "1. import the *\"Fluxomics stationary 13C-MS iso2flux\"* into your workflow space by clicking the *Shared Data -> Workflow* menu function (fig.1). Then you will have the *\"Fluxomics stationary 13C-MS iso2flux\"* workflow into your workflow space (fig.2).\n",
    "<div style=\"padding: 25px\">\n",
    "<center><img src=\"../../Images/ImportFluxomics.png\" alt=\"Drawing\" style=\"width: 99%;\"/></center>\n",
    "<center>**Figure 1.** Import *\"Fluxomics stationary 13C-MS iso2flux\" workflow*.</center>\n",
    "</div>\n",
    "<div style=\"padding: 25px\">\n",
    "<center><img src=\"../../Images/ImportedFluxomicsWorkflowArrow.png\" alt=\"Drawing\" style=\"width: 99%;\"/></center>\n",
    "<center>**Figure 2.** Imported *\"Fluxomics stationary 13C-MS iso2flux\" workflow*.</center>\n",
    "</div>\n",
    "2. Prepare the workflow to run:\n",
    "    1. click the *Run* menu function (fig.3);\n",
    "<div style=\"padding: 25px\">\n",
    "<center><img src=\"../../Images/RunMenuFluxomics.png\" alt=\"Drawing\" style=\"width: 99%;\"/></center>\n",
    "<center>**Figure 3.** Imported *\"Fluxomics stationary 13C-MS iso2flux\" workflow*.</center>\n",
    "</div>\n",
    "    2. create a new Galaxy history and upload all the required input datasets that you can find within `inputs` folder related to this tutorial. You have to:\n",
    "        1. click on the *\"load_your_own_data\"* function:\n",
    "<div style=\"padding: 25px\">\n",
    "<center><img src=\"../../Images/LoadDataFluxomicsFunction.png\" alt=\"Drawing\" style=\"width: 99%;\"/></center>\n",
    "<center>**Figure 4.** `load_your_own_data` function.</center>\n",
    "</div> \n",
    "        2. choose files to upload. Notice that it is important to select **\"zip\"** as type of the **netCDF** dataset:\n",
    "<div style=\"padding: 25px\">\n",
    "<center><img src=\"../../Images/UploadDataFluxomics.png\" alt=\"Drawing\" style=\"width: 99%;\"/></center>\n",
    "<center>**Figure 5.** Upload *\"Fluxomics stationary 13C-MS iso2flux\" workflow*.</center>\n",
    "</div>\n",
    "    3. Configure workflow to use the uploaded datasets (notice that dataset names match the workflow input labels):\n",
    "<div style=\"padding: 25px\">\n",
    "<center><img src=\"../../Images/FluxomicsConfigureWorkflow.png\" alt=\"Drawing\" style=\"width: 99%;\"/></center>\n",
    "<center>**Figure 6.** Configure input datasets for the fluxomics workflow.</center>\n",
    "</div>\n",
    "3. Run the workflow by clicking the *Run workflow* button (fig.7) and you will get some new datasets (fig.8) in your Galaxy history (be patient because it will take some minutes):\n",
    "<div style=\"padding: 25px\">\n",
    "<center><img src=\"../../Images/FluxomicsConfigureWorkflowRunButton.png\" alt=\"Drawing\" style=\"width: 99%;\"/></center>\n",
    "<center>**Figure 7.** Run the fluxomics workflow.</center>\n",
    "</div>\n",
    "<div style=\"padding: 25px\">\n",
    "<center><img src=\"../../Images/FluxomicsOutputDataset.png\" alt=\"Drawing\" style=\"width: 25%;\"/></center>\n",
    "<center>**Figure 8.** Output dataset produced by the fluxomics workflow.</center>\n",
    "</div>\n"
   ]
  },
  {
   "cell_type": "markdown",
   "metadata": {},
   "source": [
    "## 2. Create a test case using the `wizard` tool\n",
    "\n",
    "`wft4galaxy` comes with a *wizard* tool which allows you to autogenerate a test case from an existing Galaxy history. \n",
    "\n",
    "It automatically performs the following operations:\n",
    "* extract the workflow from the hsitory;\n",
    "* download input and output datasets;\n",
    "* generate a test-case configuration file.\n",
    "\n",
    "To use the `wft4galaxy-wizard` go through the following steps:\n",
    "\n",
    "1. consider the Galaxy history above and keep track of its name - you can copy it with a double click (fig.9):\n",
    "<div style=\"padding: 25px\">\n",
    "<center><img src=\"../../Images/HistoryName.png\" alt=\"Drawing\" style=\"width: 25%;\"/></center>\n",
    "<center>**Figure 9.** History name.</center>\n",
    "</div>\n",
    "2. generate the test case using the *wizard* tool using the following syntax, replacing `<HISTORY_NAME>` with the name of your actual history:"
   ]
  },
  {
   "cell_type": "code",
   "execution_count": null,
   "metadata": {
    "collapsed": true
   },
   "outputs": [],
   "source": [
    "wft4galaxy-wizard -o test-case generate-test <HISTORY_NAME>"
   ]
  },
  {
   "cell_type": "markdown",
   "metadata": {},
   "source": [
    "You will get a `test-case` folder containing all the files required to define a test case:"
   ]
  },
  {
   "cell_type": "code",
   "execution_count": 1,
   "metadata": {},
   "outputs": [
    {
     "name": "stdout",
     "output_type": "stream",
     "text": [
      "expected\t\tworkflow-test-suite.yml\n",
      "inputs\t\t\tworkflow.ga\n"
     ]
    }
   ],
   "source": [
    "ls test-case"
   ]
  },
  {
   "cell_type": "markdown",
   "metadata": {
    "collapsed": true
   },
   "source": [
    "## 3. Run the test case\n",
    "\n",
    "Now that the test case has been defined you can easily run the test case by calling `wft4galaxy` and passing it the path of the workflow test definition file (i.e., `workflow-test-suite.yml`):"
   ]
  },
  {
   "cell_type": "code",
   "execution_count": null,
   "metadata": {
    "collapsed": true
   },
   "outputs": [],
   "source": [
    "wft4galaxy -f test-case/workflow-test-suite.yml"
   ]
  }
 ],
 "metadata": {
  "kernelspec": {
   "display_name": "Bash",
   "language": "bash",
   "name": "bash"
  },
  "language_info": {
   "codemirror_mode": "shell",
   "file_extension": ".sh",
   "mimetype": "text/x-sh",
   "name": "bash"
  }
 },
 "nbformat": 4,
 "nbformat_minor": 2
}
