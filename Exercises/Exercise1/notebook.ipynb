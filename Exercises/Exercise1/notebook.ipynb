{
 "cells": [
  {
   "cell_type": "markdown",
   "metadata": {},
   "source": [
    "# Exercise 1: *define and run a test case for a Galaxy workflow*"
   ]
  },
  {
   "cell_type": "markdown",
   "metadata": {},
   "source": [
    "* **Goal: ** provide you a guide to define and execute a test case of a Galaxy workflow using the `wft4galaxy` tool.\n",
    "\n",
    "\n",
    "* **Main steps:** \n",
    "    1. *Prepare a Galaxy workflow*\n",
    "    2. *Run the workflow*\n",
    "    3. *Create a test case*\n",
    "    4. *Run the test case*"
   ]
  },
  {
   "cell_type": "markdown",
   "metadata": {},
   "source": [
    "## 1. Prepare a Galaxy workflow"
   ]
  },
  {
   "cell_type": "markdown",
   "metadata": {},
   "source": [
    "As a first step, we need to create the Galaxy workflow we would like to test. We'll considere a very simple workflow which transforms the letters of an input text to upper case, i.e., the **ChangeCase** workflow.\n",
    "\n",
    "1. Connect to your Galaxy instance and login with your assigned credentials;\n",
    "  1. Type the Galaxy URL in your web browser\n",
    "  2. Click on \"Login or Register\" at the top right\n",
    "  3. Login with the credentials provided to you on the printed sheet (provide username, password)\n",
    "2. Go to the **Workflow** menu;     \n",
    "<div style=\"padding: 15px\">\n",
    "<center><img src=\"../../Images/GalaxyNavBarWorkflowMenu.png\" alt=\"Drawing\" style=\"width: 95%;\"/></center>\n",
    "<center>**Figure 1.** *Workflow* menu in Galaxy.</center>\n",
    "</div>\n",
    "3. Click the **Create new workflow** button:\n",
    "<div style=\"padding: 15px\">\n",
    "<center><img src=\"../../Images/GalaxyNavBarCreateWorkflowButton.png\" alt=\"Drawing\" style=\"width: 95%;\"/></center>\n",
    "<center>**Figure 2.** *Create new workflow*.</center>\n",
    "</div>\n",
    "\n",
    "4. The **ChangeCase** workflow uses the two following Galaxy tools:\n",
    "\n",
    "    1. **Inputs --> Input dataset:** it allows to upload the dataset to be used as workflow input (*fig.3*);\n",
    "    2. **Text Manipulation --> Change Case:** it performs the actual text transformation (*fig.4*)        \n",
    "<div style=\"padding: 15px;\">\n",
    "<div style=\"display: inline-block; width: 50%; margin: 0 auto;\">\n",
    "<center>![inputdataset-tool](../../Images/GalaxyInputDatasetTool.png \"Input Dataset Tool\")</center>\n",
    "<center>**Figure 3.** *Input dataset* tool.</center>\n",
    "</div>\n",
    "<div style=\"display: inline-block\">\n",
    "<center>![changecase-tool](../../Images/GalaxyChangeCaseTool.png \"ChangeCase Tool\")</center>\n",
    "<center>**Figure 4.** *Change Case* tool.</center>\n",
    "</div>\n",
    "</div>\n",
    "5. Connect the two tools above to obtain the following graph:\n",
    "<div style=\"padding: 25px\">\n",
    "<center><img src=\"../../Images/ChangeCaseWorkflow.png\" alt=\"Drawing\" style=\"width: 50%;\"/></center>\n",
    "<center>**Figure 5.** *Change Case Workflow*.</center>\n",
    "</div>\n",
    "6. Pay attention to the *\"input name\"* and *\"output label\"* you use to identify your workflow input and output (keep track of them: we'll use them later):\n",
    "<div style=\"padding: 15px;\">\n",
    "<div style=\"display: inline-block; width: 50%; margin: 0 auto;\">\n",
    "<center>![wf-changecase-inputdataset](../../Images/ChangeCaseInputDataset.png \"Workflow “Input Dataset“\")</center>\n",
    "<center>**Figure 6.** Workflow input: *\"Input Dataset\"*</center>\n",
    "</div>\n",
    "<div style=\"display: inline-block\">\n",
    "<center>![wf-changecase-outputdataset](../../Images/ChangeCaseOutputDataset.png \"Workflow “Output Dataset“\")</center>\n",
    "<center>**Figure 7.** Workflow output: *\"OutputText\"*</center>\n",
    "</div>\n",
    "</div>\n",
    "7. Save your workflow, by clicking the gear (1) and finally the *save* menu item (2): \n",
    "<div style=\"display: inline-block; padding: 15px;\">\n",
    "<center>![wf-changecase-save](../../Images/SaveWorkflow.png \"Save Workflow\")</center>\n",
    "<center>**Figure 8.** Save the `ChangeCase` workflow</center>\n",
    "</div>"
   ]
  },
  {
   "cell_type": "markdown",
   "metadata": {},
   "source": [
    "## 2. Run the workflow\n",
    "\n",
    "To run the `ChangeCase` workflow we need to go through the following steps:\n",
    "\n",
    "1. go to the workflows list (see step 2 of the section *\"1. Prepare a Galaxy workflow\"*);\n",
    "2. click on your workflow name (1) and then on the **Run** menu function (2):\n",
    "<div style=\"display: inline-block; padding: 15px;\">\n",
    "<center>![wf-changecase-run](../../Images/RunWorkflowMenu.png \"Run the `change_case` workflow\")</center>\n",
    "<center>**Figure 9.** Run the `ChangeCase` workflow</center>\n",
    "</div>\n",
    "\n",
    "3. create a new Galaxy *history* by clicking on the gear (1) and the **Create New** menu function (2):\n",
    "<div style=\"display: inline-block; padding: 15px;\">\n",
    "<center>![wf-changecase-newhistory](../../Images/CreateNewHistory.png \"Create new history\")</center>\n",
    "<center>**Figure 10.** Create new Galaxy *history*.</center>\n",
    "</div>\n",
    "\n",
    "4. upload an input dataset to the existing Galaxy history.     \n",
    "    We've provided you with an example dataset that you can use for your tests. It is contained in the `inputs` subfolder of the directory containing this document (1) and you can easily download it to your computer by selecting it (2) and clicking on the **Download** button (3):\n",
    "<div style=\"display: inline-block; padding: 15px;\">\n",
    "<center>![wf-changecase-download-ds](../../Images/JupyterDownloadInputAnnotated.png \"Downlo dataset\")</center>\n",
    "<center>**Figure 11.** Download the example dataset to a local path.</center>\n",
    "</div>\n",
    "    To upload the dataset to the Galaxy history you have to click on **load your own data** (fig.12) and choose the input file to upload (fig.13) from your local path (i.e., from the path where the file above have been downloaded):\n",
    "<div style=\"display: inline-block; padding: 15px;\">\n",
    "<center>![wf-changecase-upload-ds](../../Images/RunChangeCaseUploadDataset.png \"Upload dataset\")</center>\n",
    "<center>**Figure 12.** Upload a dataset to the Galaxy *history*.</center>\n",
    "</div>\n",
    "<div style=\"display: inline-block; padding: 15px;\">\n",
    "<center>![wf-changecase-choose-upload-ds](../../Images/ChooseInputDataset.png \"Choose dataset to upload\")</center>\n",
    "<center>**Figure 13.** Choose the input dataset.</center>\n",
    "</div>\n",
    "\n",
    "5. select the uploaded dataset as input of your workflow from the combo box in *fig.14* (if you can't see the uploaded file, try to reload the Galaxy page):\n",
    "<div style=\"display: inline-block; padding: 15px;\">\n",
    "<center>![wf-changecase-newhistory](../../Images/SelectInputDataset.png \"Select the input dataset\")</center>\n",
    "<center>**Figure 14.** Select the input dataset.</center>\n",
    "</div>\n",
    "\n",
    "6. run the Galaxy workflow by clicking on the **Run workflow** button:\n",
    "<div style=\"display: inline-block; padding: 15px;\">\n",
    "<center>![wf-changecase-run](../../Images/RunGalaxyWorlflow.png \"Run the Galaxy workflow\")</center>\n",
    "<center>**Figure 15.** Run the Galaxy workflow.</center>\n",
    "</div>\n",
    "You'll see a new dataset, named *OutputText*, on the Galaxy history: it contains the output of the executed workflow and you can inspect and download it.\n",
    "<div style=\"display: inline-block; padding: 15px;\">\n",
    "<center>![wf-changecase-executed](../../Images/GalaxyWorkflowExecuted.png \"Run the Galaxy workflow\")</center>\n",
    "<center>**Figure 16.** Executed Galaxy workflow.</center>\n",
    "</div>"
   ]
  },
  {
   "cell_type": "markdown",
   "metadata": {},
   "source": [
    "## 3. Create a test case\n",
    "\n",
    "To create a test case we'll go through the following steps:\n",
    "\n",
    "1. generate a test case template;\n",
    "2. collect all the required files;\n",
    "3. edit the configuration file.\n",
    "\n",
    "#### 3.1. Generate a test case template\n",
    "`wft4galaxy` comes with a *wizard* tool which allows you to generate a template of a \"well-formed\" test case directory structure. You can call it with the syntax shown below and you'll get:\n",
    "    1. a new file `workflow-test-suite.yml`, containing a template of test-suite configuration file;\n",
    "    2. the `inputs` folder, which you have to use to collect the input datasets of your test case;\n",
    "    3. the `expected` folder, which you have to use to collect the expected datasets of your test case.\n",
    "\n",
    "Execute the cell below (select it and click the play button on the toolbar, or press Shift+Enter)."
   ]
  },
  {
   "cell_type": "code",
   "execution_count": null,
   "metadata": {},
   "outputs": [],
   "source": [
    "wft4galaxy-wizard -o . generate-template # generate a template test case folder in the "
   ]
  },
  {
   "cell_type": "markdown",
   "metadata": {},
   "source": [
    "Check whether the command above has properly generated all the mentioned files:"
   ]
  },
  {
   "cell_type": "code",
   "execution_count": null,
   "metadata": {},
   "outputs": [],
   "source": [
    "ls ."
   ]
  },
  {
   "cell_type": "markdown",
   "metadata": {},
   "source": [
    "#### 3.2 Collect required files\n",
    "\n",
    "For creating a workflow test case you need to collect the following files which are required for defining your test case:\n",
    "1. the *worflow file definition* which contains the workflow you want to test. It can be easily downloaded from Galaxy after you have clicked on the *\"Download\"* function related to your workflow in the *\"Your workflows\"* section:\n",
    "<div style=\"display: inline-block; padding: 15px;\">\n",
    "<center>![wf-download](../../Images/GalaxyWorkflowDownloadFunction.png \"Download a Galaxy workflow\")</center>\n",
    "<center>**Figure 17.** Download the Galaxy workflow.</center>\n",
    "</div>\n",
    "2. the dataset you'd like to use as *input*, which is already in the folder containing this notebook (i.e., `Exercises/Exercise1`);\n",
    "3. the dataset you'd like to use as *expected_output*, which actually is the output obtained by the workflow execution at step *\"2. Run the workflow\"* above. You have to download it as described in the step 2.6 (fig.16) and finally upload it to the `Exercises/Exercise1` folder by clicking the *Upload* button from the same folder (fig.18):\n",
    "<div style=\"display: inline-block; padding: 15px;\">\n",
    "<center>![wf-download](../../Images/UploadDatasetToJupyter.png \"Upload dataset to Jupyter\")</center>\n",
    "<center>**Figure 18.** Upload dataset to Jupyter.</center>\n",
    "</div>    "
   ]
  },
  {
   "cell_type": "markdown",
   "metadata": {
    "collapsed": true
   },
   "source": [
    "#### 3.3 Edit the configuration file\n",
    "\n",
    "As a final step to have a working test case you have to edit the template configuration file generated in [3.1], i.e., `workflow-test-suite.yml`, and update it with the actual information. \n",
    "This file contains all the information you need to define a test suite by specifying for every test case:\n",
    "\n",
    "1. the name of the test case:\n",
    "2. the filename of the workflow definition file (downloaded from Galaxy as described in 3.2.1);\n",
    "3. the set of inputs of your workflow;\n",
    "4. the set of datasets you'd like to use as expected outputs.\n",
    "\n",
    "<div style=\"display: inline-block; padding: 15px; width: 80%;\">\n",
    "<center>![wf-test-case-definition](../../Images/WorkflowTestDefinitionFileExample.png \"Example of workflow test definition file\")</center>\n",
    "<center>**Figure 19.** Example of workflow test definition file.</center>\n",
    "</div>\n",
    "\n",
    "The full documentation of the *Test Definition File* is available at http://wft4galaxy.readthedocs.io/test-definition-file.html\n",
    "\n",
    "Click [here](/edit/Exercises/Exercise1/workflow-test-suite.yml) to edit the test definition file, paying attention to these parts:\n",
    "1. the *workflow test case*;\n",
    "2. the *workflow file name*;\n",
    "3. the inputs;\n",
    "4. the expected outputs.\n"
   ]
  },
  {
   "cell_type": "markdown",
   "metadata": {
    "collapsed": true
   },
   "source": [
    "## 4. Run the test case\n",
    "\n",
    "Now that the test case has been defined you can easily run it by calling `wft4galaxy`. \n",
    "\n",
    "`wft4galaxy` is a tool which automate the workflow execution by performing the following actions:\n",
    "\n",
    "1. upload the workflow of your test case and its input datasets;\n",
    "2. run the workflow;\n",
    "3. download the actual outputs and compare them to the expected using special functions called `comparators`.\n",
    "\n",
    "<div style=\"display: inline-block; padding: 15px; width: 80%;\">\n",
    "<center>![wf-test-case-exec-flow](../../Images/Architecture.png \"Execution flow of a test case\")</center>\n",
    "<center>**Figure 20.** Execution flow of a test case in `wft4galaxy`.</center>\n",
    "</div>"
   ]
  },
  {
   "cell_type": "markdown",
   "metadata": {},
   "source": [
    "#### 4.1 Connect to a Galaxy instance\n",
    "\n",
    "For your information, as shown in fig. 20 `wft4galaxy` needs to connect to an existing Galaxy instance. To do this you need to give it following parameters (either as environment variables or on the command line):\n",
    "\n",
    "1. `GALAXY_URL`: the URL to reach the running Galaxy instance you want to use;\n",
    "2. `GALAXY_API_KEY`: a special string which allows a third-party application to communicate with Galaxy programmatically.\n",
    "\n",
    "To set this parameters in your Jupyter environment, run the cell below after replacing the `...` placeholders with their corresponding real values:"
   ]
  },
  {
   "cell_type": "code",
   "execution_count": null,
   "metadata": {},
   "outputs": [],
   "source": [
    "export GALAXY_URL=\"...\"\n",
    "export GALAXY_API_KEY=\"...\""
   ]
  },
  {
   "cell_type": "markdown",
   "metadata": {},
   "source": [
    "#### 4.2 Execute your test case\n",
    "\n",
    "Finally to execute your test case you have to call `wft4galaxy` with the path of the workflow test definition file (i.e., `workflow-test-suite.yml`).  Execute the cell below and look at the output:"
   ]
  },
  {
   "cell_type": "code",
   "execution_count": null,
   "metadata": {},
   "outputs": [],
   "source": [
    "wft4galaxy -f workflow-test-suite.yml"
   ]
  }
 ],
 "metadata": {
  "kernelspec": {
   "display_name": "Bash",
   "language": "bash",
   "name": "bash"
  },
  "language_info": {
   "codemirror_mode": "shell",
   "file_extension": ".sh",
   "mimetype": "text/x-sh",
   "name": "bash"
  }
 },
 "nbformat": 4,
 "nbformat_minor": 2
}
