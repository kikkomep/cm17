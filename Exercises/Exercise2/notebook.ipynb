{
 "cells": [
  {
   "cell_type": "markdown",
   "metadata": {
    "deletable": true,
    "editable": true
   },
   "source": [
    "# Exercise 2: *example of test failure*"
   ]
  },
  {
   "cell_type": "markdown",
   "metadata": {
    "deletable": true,
    "editable": true
   },
   "source": [
    "* **Goal: ** provide you a concrete and simple example of a workflow which doesn't work as expected.\n",
    "\n",
    "\n",
    "* **Main steps:** \n",
    "    1. *Prepared a Galaxy workflow*\n",
    "    2. *Create a test case*\n",
    "    3. *Run the test case*\n",
    "    4. *Inspect the result*"
   ]
  },
  {
   "cell_type": "markdown",
   "metadata": {
    "deletable": true,
    "editable": true
   },
   "source": [
    "## 1. Prepare a Galaxy workflow"
   ]
  },
  {
   "cell_type": "markdown",
   "metadata": {
    "deletable": true,
    "editable": true
   },
   "source": [
    "Consider the simple `ChangeCase` workflow we have seen in the [exercise 1](/notebooks/Exercises/Exercise1/notebook.ipynb) whose purpose is to simply capitalize a text provided as input dataset. \n",
    "\n",
    "<div style=\"padding: 25px\">\n",
    "<center><img src=\"../../Images/ChangeCaseWorkflow.png\" alt=\"Drawing\" style=\"width: 50%;\"/></center>\n",
    "<center>**Figure 1.** *Change Case Workflow*.</center>\n",
    "</div>\n",
    "\n",
    "The actual transformation is performed by the Galaxy *Change Case* tool and it is governed by the `case` parameter of that tool:\n",
    "\n",
    "<div style=\"padding: 25px\">\n",
    "<center><img src=\"../../Images/ChangeCaseToolParam.png\" alt=\"Drawing\" style=\"width: 100%;\"/></center>\n",
    "<center>**Figure 2.** *case* parameter of the *ChangeCase* tool.</center>\n",
    "</div>\n",
    "\n",
    "Suppose that you accidentally change that parameter to `lower case` and update your workflow with that modification (see step 1.7 of [exercise 1](/notebooks/Exercises/Exercise1/notebook.ipynb) to save the modified workflow).\n"
   ]
  },
  {
   "cell_type": "markdown",
   "metadata": {
    "deletable": true,
    "editable": true
   },
   "source": [
    "## 2. Create a test case\n",
    "\n",
    "As described in the step 3 of the [exercise 1](/notebooks/Exercises/Exercise1/notebook.ipynb), to create a test case we have to go through the following steps:\n",
    "\n",
    "1. generate a test case template;\n",
    "2. collect all the required files;\n",
    "3. edit the configuration file.\n",
    "\n",
    "To simplify the exercise the `inputs` and `expected` folders already contain the required files. Notice that because we are supposing that your change is accidental, you'd expect the same output the original *ChangeCase* example. Thus, the `expected` folder exactly contains that output (i.e., the capitalized transformation of the input dataset).\n",
    "\n",
    "The only thing we need to download is the new *workflow definition file* which can be easily downloaded from Galaxy as described in the step 3.2.1 of the [exercise 1](/notebooks/Exercises/Exercise1/notebook.ipynb). Finally you have to upload it within the same directory of this notebook (i.e., `Exercises/Exercise2`) as in 3.2.3 of the [exercise 1](/notebooks/Exercises/Exercise1/notebook.ipynb).\n",
    "\n",
    "Finally edit the `workflow-test-suite.yml` file as described in the step 3.3 of the [exercise 1](/notebooks/Exercises/Exercise1/notebook.ipynb)."
   ]
  },
  {
   "cell_type": "markdown",
   "metadata": {
    "collapsed": true,
    "deletable": true,
    "editable": true
   },
   "source": [
    "## 3. Run the test case\n",
    "\n",
    "Now that the test case has been defined you can easily run the test case by calling `wft4galaxy` and passing it the path of the workflow test definition file (i.e., `workflow-test-suite.yml`):"
   ]
  },
  {
   "cell_type": "code",
   "execution_count": 1,
   "metadata": {
    "collapsed": false,
    "deletable": true,
    "editable": true
   },
   "outputs": [
    {
     "name": "stdout",
     "output_type": "stream",
     "text": [
      "2017-09-06 23:33:22,733 [wft4galaxy.app.runner] [DEBUG]  Python version: 2.7.13 (default, Dec 18 2016, 07:03:39) \n",
      "[GCC 4.2.1 Compatible Apple LLVM 8.0.0 (clang-800.0.42.1)]\n",
      "2017-09-06 23:33:22,733 [wft4galaxy.app.runner] [ INFO]  Configuration: <wft4galaxy.core.WorkflowTestSuite object at 0x10d79f7d0>\n",
      "2017-09-06 23:33:22,759 [wft4galaxy.common] [DEBUG]  Creating a new WorflowLoader instance...\n",
      "2017-09-06 23:33:22,760 [wft4galaxy.runner.WorkflowTestsRunner] [DEBUG]  Creating unittest wrappers...\n",
      "2017-09-06 23:33:22,781 [wft4galaxy.runner.WorkflowTestsRunner] [DEBUG]  Creating unittest wrappers: done\n",
      "\n",
      "Running tests...\n",
      "----------------------------------------------------------------------\n",
      "  Workflow Test: 'workflow_test_case_1' ... 2017-09-06 23:33:22,782 [wft4galaxy.common] [DEBUG]  Loading workflow definition from file: /Users/kikkomep/CloudDrives/Dropbox/Work/Crs4/Projects/PhenoMeNal/WorkShops/CloudMet2017/Exercises/Exercise2/workflow-lower.ga\n",
      "2017-09-06 23:33:22,784 [wft4galaxy.common] [DEBUG]  Workflow definition loaded from file: done\n",
      "2017-09-06 23:33:22,784 [wft4galaxy.common] [DEBUG]  Uploading the Workflow to the Galaxy instance ...\n",
      "2017-09-06 23:33:22,800 [urllib3.connectionpool] [DEBUG]  Starting new HTTPS connection (1): public.phenomenal-h2020.eu\n",
      "2017-09-06 23:33:27,295 [urllib3.connectionpool] [DEBUG]  https://public.phenomenal-h2020.eu:443 \"POST /api/workflows/upload?key=d7470f631269032e779d781f4bc21bdf HTTP/1.1\" 200 None\n",
      "2017-09-06 23:33:27,301 [bioblend] [DEBUG]  GET - attempts left: 1; retry delay: 10\n",
      "2017-09-06 23:33:27,304 [urllib3.connectionpool] [DEBUG]  Starting new HTTPS connection (1): public.phenomenal-h2020.eu\n",
      "2017-09-06 23:33:27,710 [urllib3.connectionpool] [DEBUG]  https://public.phenomenal-h2020.eu:443 \"GET /api/workflows/d33e32db742aed56?key=d7470f631269032e779d781f4bc21bdf HTTP/1.1\" 200 None\n",
      "2017-09-06 23:33:27,719 [bioblend] [DEBUG]  GET - attempts left: 1; retry delay: 10\n",
      "2017-09-06 23:33:27,722 [urllib3.connectionpool] [DEBUG]  Starting new HTTPS connection (1): public.phenomenal-h2020.eu\n",
      "2017-09-06 23:33:28,125 [urllib3.connectionpool] [DEBUG]  https://public.phenomenal-h2020.eu:443 \"GET /api/tools?in_panel=False&key=d7470f631269032e779d781f4bc21bdf HTTP/1.1\" 200 None\n",
      "2017-09-06 23:33:28,402 [wft4galaxy.common] [DEBUG]  Uploading the Workflow to the Galaxy instance: done\n",
      "FAIL (22.274s)\n",
      "\n",
      "======================================================================\n",
      "FAIL [22.274s]: Workflow Test: 'workflow_test_case_1'\n",
      "----------------------------------------------------------------------\n",
      "Traceback (most recent call last):\n",
      "  File \"/usr/local/lib/python2.7/site-packages/wft4galaxy-0.1-py2.7.egg/wft4galaxy/runner.py\", line 593, in run_test\n",
      "    raise AssertionError(error_msg)\n",
      "AssertionError: The actual output 'OutputText' differs from the expected one.\n",
      "\n",
      "----------------------------------------------------------------------\n",
      "Ran 1 test in 22.274s\n",
      "\n",
      "FAILED (failures=1)\n"
     ]
    },
    {
     "ename": "",
     "evalue": "1",
     "output_type": "error",
     "traceback": []
    }
   ],
   "source": [
    "wft4galaxy -f workflow-test-suite.yml"
   ]
  },
  {
   "cell_type": "markdown",
   "metadata": {
    "collapsed": true,
    "deletable": true,
    "editable": true
   },
   "source": [
    "## 4. Inspect the output\n",
    "\n",
    "As a result of the test case execution above, you have obtained an error.\n",
    "\n",
    "At this point it should be useful and instructive to see the reason why it have failed by inspecting the actual output dataset and comparing it to the expected. The default `wft4galaxy` behaviour when it runs a test case is to clean up Galaxy from all the uploaded and generated data and delete all downloaded data to check. This behaviour can be overwritten by using the `--disable-cleanup` option, which forces `wft4galaxy` to retain either the uploaded/generated Galaxy data either the downloaded datasets. Thus, typing:"
   ]
  },
  {
   "cell_type": "code",
   "execution_count": 2,
   "metadata": {
    "collapsed": false,
    "deletable": true,
    "editable": true
   },
   "outputs": [
    {
     "name": "stdout",
     "output_type": "stream",
     "text": [
      "2017-09-07 00:15:42,629 [wft4galaxy.app.runner] [DEBUG]  Python version: 2.7.13 (default, Dec 18 2016, 07:03:39) \n",
      "[GCC 4.2.1 Compatible Apple LLVM 8.0.0 (clang-800.0.42.1)]\n",
      "2017-09-07 00:15:42,629 [wft4galaxy.app.runner] [ INFO]  Configuration: <wft4galaxy.core.WorkflowTestSuite object at 0x10ba077d0>\n",
      "2017-09-07 00:15:42,650 [wft4galaxy.common] [DEBUG]  Creating a new WorflowLoader instance...\n",
      "2017-09-07 00:15:42,651 [wft4galaxy.runner.WorkflowTestsRunner] [DEBUG]  Creating unittest wrappers...\n",
      "2017-09-07 00:15:42,667 [wft4galaxy.runner.WorkflowTestsRunner] [DEBUG]  Creating unittest wrappers: done\n",
      "\n",
      "Running tests...\n",
      "----------------------------------------------------------------------\n",
      "  Workflow Test: 'workflow_test_case_1' ... 2017-09-07 00:15:42,667 [wft4galaxy.common] [DEBUG]  Loading workflow definition from file: /Users/kikkomep/CloudDrives/Dropbox/Work/Crs4/Projects/PhenoMeNal/WorkShops/CloudMet2017/Exercises/Exercise2/workflow-lower.ga\n",
      "2017-09-07 00:15:42,668 [wft4galaxy.common] [DEBUG]  Workflow definition loaded from file: done\n",
      "2017-09-07 00:15:42,668 [wft4galaxy.common] [DEBUG]  Uploading the Workflow to the Galaxy instance ...\n",
      "2017-09-07 00:15:42,679 [urllib3.connectionpool] [DEBUG]  Starting new HTTPS connection (1): public.phenomenal-h2020.eu\n",
      "2017-09-07 00:15:47,232 [urllib3.connectionpool] [DEBUG]  https://public.phenomenal-h2020.eu:443 \"POST /api/workflows/upload?key=d7470f631269032e779d781f4bc21bdf HTTP/1.1\" 200 None\n",
      "2017-09-07 00:15:47,240 [bioblend] [DEBUG]  GET - attempts left: 1; retry delay: 10\n",
      "2017-09-07 00:15:47,244 [urllib3.connectionpool] [DEBUG]  Starting new HTTPS connection (1): public.phenomenal-h2020.eu\n",
      "2017-09-07 00:15:47,646 [urllib3.connectionpool] [DEBUG]  https://public.phenomenal-h2020.eu:443 \"GET /api/workflows/43d619180bf1008a?key=d7470f631269032e779d781f4bc21bdf HTTP/1.1\" 200 None\n",
      "2017-09-07 00:15:47,653 [bioblend] [DEBUG]  GET - attempts left: 1; retry delay: 10\n",
      "2017-09-07 00:15:47,656 [urllib3.connectionpool] [DEBUG]  Starting new HTTPS connection (1): public.phenomenal-h2020.eu\n",
      "2017-09-07 00:15:48,039 [urllib3.connectionpool] [DEBUG]  https://public.phenomenal-h2020.eu:443 \"GET /api/tools?in_panel=False&key=d7470f631269032e779d781f4bc21bdf HTTP/1.1\" 200 None\n",
      "2017-09-07 00:15:48,372 [wft4galaxy.common] [DEBUG]  Uploading the Workflow to the Galaxy instance: done\n",
      "FAIL (22.367s)\n",
      "\n",
      "======================================================================\n",
      "FAIL [22.367s]: Workflow Test: 'workflow_test_case_1'\n",
      "----------------------------------------------------------------------\n",
      "Traceback (most recent call last):\n",
      "  File \"/usr/local/lib/python2.7/site-packages/wft4galaxy-0.1-py2.7.egg/wft4galaxy/runner.py\", line 593, in run_test\n",
      "    raise AssertionError(error_msg)\n",
      "AssertionError: The actual output 'OutputText' differs from the expected one.\n",
      "\n",
      "----------------------------------------------------------------------\n",
      "Ran 1 test in 22.368s\n",
      "\n",
      "FAILED (failures=1)\n"
     ]
    },
    {
     "ename": "",
     "evalue": "1",
     "output_type": "error",
     "traceback": []
    }
   ],
   "source": [
    "wft4galaxy -f workflow-test-suite.yml --disable-cleanup"
   ]
  },
  {
   "cell_type": "markdown",
   "metadata": {
    "deletable": true,
    "editable": true
   },
   "source": [
    "... you'll get a `results` folder containing all the generated/downloaded mentioned datasets grouped by test case."
   ]
  },
  {
   "cell_type": "code",
   "execution_count": 1,
   "metadata": {
    "collapsed": false,
    "deletable": true,
    "editable": true
   },
   "outputs": [
    {
     "name": "stdout",
     "output_type": "stream",
     "text": [
      "OutputText\n"
     ]
    }
   ],
   "source": [
    "# list the 'results' folder\n",
    "ls results/workflow_test_case_1"
   ]
  },
  {
   "cell_type": "markdown",
   "metadata": {
    "deletable": true,
    "editable": true
   },
   "source": [
    "The directory contains `workflow_test_case_1` contains the generated output dataset: you can see that the [actual](/tree/Exercises/Exercise2/results/workflow_test_case_1/OutputText) is different from the [expected](/tree/Exercises/Exercise2/expected/output)."
   ]
  }
 ],
 "metadata": {
  "kernelspec": {
   "display_name": "Bash",
   "language": "bash",
   "name": "bash"
  },
  "language_info": {
   "codemirror_mode": "shell",
   "file_extension": ".sh",
   "mimetype": "text/x-sh",
   "name": "bash"
  }
 },
 "nbformat": 4,
 "nbformat_minor": 2
}
