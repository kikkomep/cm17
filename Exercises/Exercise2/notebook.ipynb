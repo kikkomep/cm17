{
 "cells": [
  {
   "cell_type": "markdown",
   "metadata": {},
   "source": [
    "# Exercise 2: *example of test failure*"
   ]
  },
  {
   "cell_type": "markdown",
   "metadata": {},
   "source": [
    "* **Goal: ** provide you a concrete and simple example of a workflow which doesn't work as expected.\n",
    "\n",
    "\n",
    "* **Main steps:** \n",
    "    1. *Prepare a Galaxy workflow*\n",
    "    2. *Create a test case*\n",
    "    3. *Run the test case*\n",
    "    4. *Inspect the result*"
   ]
  },
  {
   "cell_type": "markdown",
   "metadata": {},
   "source": [
    "## 1. Prepare a Galaxy workflow"
   ]
  },
  {
   "cell_type": "markdown",
   "metadata": {},
   "source": [
    "Consider the simple `ChangeCase` workflow we have seen in the [exercise 1](/notebooks/Exercises/Exercise1/notebook.ipynb) whose purpose is to simply capitalize a text provided as input dataset. \n",
    "\n",
    "<div style=\"padding: 25px\">\n",
    "<center><img src=\"../../Images/ChangeCaseWorkflow.png\" alt=\"Drawing\" style=\"width: 50%;\"/></center>\n",
    "<center>**Figure 1.** *Change Case Workflow*.</center>\n",
    "</div>\n",
    "\n",
    "The actual transformation is performed by the Galaxy *Change Case* tool and it is governed by the `case` parameter of that tool.\n",
    "\n",
    "Suppose that you accidentally changed that parameter to `lower case`.  Make the modification and save your workflow (see step 1.7 of [exercise 1](/notebooks/Exercises/Exercise1/notebook.ipynb) to save the modified workflow).\n",
    "\n",
    "<div style=\"padding: 25px\">\n",
    "<center><img src=\"../../Images/ChangeCaseToolParam.png\" alt=\"Drawing\" style=\"width: 100%;\"/></center>\n",
    "<center>**Figure 2.** *case* parameter of the *ChangeCase* tool.</center>\n",
    "</div>\n"
   ]
  },
  {
   "cell_type": "markdown",
   "metadata": {},
   "source": [
    "## 2. Create the test case\n",
    "\n",
    "Actually, because we are supposing an accidental change, our test case is the same as in Exercise 1. Thus, the `expected` folder exactly contains that output (i.e., the capitalized transformation of the input dataset).\n",
    "\n",
    "But we need to update the test case to reflect the error we just introduced in the workflow.\n",
    "\n",
    "1. Go to your Galaxy window and download the new *workflow definition file* from Galaxy (like in the step 3.2.1 of the [exercise 1](/notebooks/Exercises/Exercise1/notebook.ipynb)).  Save the workflow somewhere.\n",
    "2. Switch to the notebook home page and upload the file to `Exercises/Exercise2` (as in the step 3.2.3 of the [exercise 1](/notebooks/Exercises/Exercise1/notebook.ipynb)).\n",
    "3. The `workflow-test-suite.yml` file should be identical as in Exercise 1.  Verify, if you wish."
   ]
  },
  {
   "cell_type": "markdown",
   "metadata": {
    "collapsed": true
   },
   "source": [
    "## 3. Run the test case\n",
    "\n",
    "Run the test case by calling `wft4galaxy`.  Execute the cell below:"
   ]
  },
  {
   "cell_type": "code",
   "execution_count": null,
   "metadata": {},
   "outputs": [],
   "source": [
    "wft4galaxy -f workflow-test-suite.yml"
   ]
  },
  {
   "cell_type": "markdown",
   "metadata": {
    "collapsed": true
   },
   "source": [
    "## 4. Inspect the output\n",
    "\n",
    "As a result of the test case execution above, you have obtained an error.\n",
    "\n",
    "At this point it should be useful and instructive to see the reason why it have failed by inspecting the actual output dataset and comparing it to the expected. The default behaviour of `wft4galaxy` when it runs a test case is to clean up Galaxy from all the uploaded and generated data and delete all downloaded data to check. This behaviour can be overwritten by using the `--disable-cleanup` option, which forces `wft4galaxy` to retain either the uploaded/generated Galaxy data either the downloaded datasets. Thus, typing:"
   ]
  },
  {
   "cell_type": "code",
   "execution_count": 2,
   "metadata": {},
   "outputs": [
    {
     "name": "stdout",
     "output_type": "stream",
     "text": [
      "\n",
      "Running tests...\n",
      "----------------------------------------------------------------------\n",
      "  Workflow Test: 'workflow_test_case_1' ... FAIL (19.955s)\n",
      "\n",
      "======================================================================\n",
      "FAIL [19.955s]: Workflow Test: 'workflow_test_case_1'\n",
      "----------------------------------------------------------------------\n",
      "Traceback (most recent call last):\n",
      "  File \"/usr/lib/python2.7/site-packages/wft4galaxy-0.1-py2.7.egg/wft4galaxy/runner.py\", line 596, in run_test\n",
      "    raise AssertionError(error_msg)\n",
      "AssertionError: The actual output 'OutputText' differs from the expected one.\n",
      "\n",
      "----------------------------------------------------------------------\n",
      "Ran 1 test in 19.955s\n",
      "\n",
      "FAILED (failures=1)\n"
     ]
    },
    {
     "ename": "",
     "evalue": "1",
     "output_type": "error",
     "traceback": []
    }
   ],
   "source": [
    "wft4galaxy -f workflow-test-suite.yml --disable-cleanup"
   ]
  },
  {
   "cell_type": "markdown",
   "metadata": {},
   "source": [
    "... you'll get a `results` folder containing all the generated/downloaded mentioned datasets grouped by test case."
   ]
  },
  {
   "cell_type": "code",
   "execution_count": 3,
   "metadata": {},
   "outputs": [
    {
     "name": "stdout",
     "output_type": "stream",
     "text": [
      "\u001b[0;0mOutputText\u001b[0m\n"
     ]
    }
   ],
   "source": [
    "# list the 'results' folder\n",
    "ls results/workflow_test_case_1"
   ]
  },
  {
   "cell_type": "markdown",
   "metadata": {},
   "source": [
    "The directory contains `workflow_test_case_1` contains the generated output dataset: you can see that the [actual](/tree/Exercises/Exercise2/results/workflow_test_case_1/OutputText) is different from the [expected](/tree/Exercises/Exercise2/expected/output).\n",
    "\n",
    "Finally notice that with the option `--disable-cleanup` the Galaxy history of the workflow execution is preserved to further examination."
   ]
  }
 ],
 "metadata": {
  "kernelspec": {
   "display_name": "Bash",
   "language": "bash",
   "name": "bash"
  },
  "language_info": {
   "codemirror_mode": "shell",
   "file_extension": ".sh",
   "mimetype": "text/x-sh",
   "name": "bash"
  }
 },
 "nbformat": 4,
 "nbformat_minor": 2
}
