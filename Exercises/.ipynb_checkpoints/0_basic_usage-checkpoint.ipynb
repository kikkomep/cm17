{
 "cells": [
  {
   "cell_type": "markdown",
   "metadata": {},
   "source": [
    "# Run a test suite"
   ]
  },
  {
   "cell_type": "markdown",
   "metadata": {},
   "source": [
    "Given **wft4galaxy** installed as native Python library (see [Installation](installation.html)) and \n",
    "a well formed workflow test suite definition file (we use [\"examples/change_case/workflow-test.yml\"](../examples/change_case/workflow-test.yml) as example; see [Define a test suite from a Workflow](1_define_test_suite.html) and [\"Test Definition file reference\"](test_definition_file.html) for more details) you can run your tests by simply typing:\n",
    "\n",
    "<!-- just to adjust the space -->\n",
    "<div style=\"margin-top: 30px\"></div>"
   ]
  },
  {
   "cell_type": "code",
   "execution_count": 1,
   "metadata": {},
   "outputs": [
    {
     "name": "stdout",
     "output_type": "stream",
     "text": [
      "\n",
      "Running tests...\n",
      "----------------------------------------------------------------------\n",
      "  Workflow Test: 'change_case' ... ERROR (0.080s)\n",
      "\n",
      "======================================================================\n",
      "ERROR [0.080s]: Workflow Test: 'change_case'\n",
      "----------------------------------------------------------------------\n",
      "Traceback (most recent call last):\n",
      "  File \"/usr/local/lib/python2.7/site-packages/wft4galaxy-0.1-py2.7.egg/wft4galaxy/runner.py\", line 464, in run_test\n",
      "    workflow = self.get_galaxy_workflow()\n",
      "  File \"/usr/local/lib/python2.7/site-packages/wft4galaxy-0.1-py2.7.egg/wft4galaxy/runner.py\", line 428, in get_galaxy_workflow\n",
      "    workflow_name_suffix=self.uuid\n",
      "  File \"/usr/local/lib/python2.7/site-packages/wft4galaxy-0.1-py2.7.egg/wft4galaxy/common.py\", line 272, in load_workflow\n",
      "    workflow_name, workflow_name_prefix, workflow_name_suffix)\n",
      "  File \"/usr/local/lib/python2.7/site-packages/wft4galaxy-0.1-py2.7.egg/wft4galaxy/common.py\", line 295, in load_workflow_by_filename\n",
      "    wf = self._galaxy_instance.workflows.import_new(wf_json)\n",
      "  File \"/usr/local/lib/python2.7/site-packages/bioblend-0.9.0-py2.7.egg/bioblend/galaxy/objects/client.py\", line 263, in import_new\n",
      "    wf_info = self.gi.workflows.import_workflow_dict(wf_dict, publish)\n",
      "  File \"/usr/local/lib/python2.7/site-packages/bioblend-0.9.0-py2.7.egg/bioblend/galaxy/workflows/__init__.py\", line 107, in import_workflow_dict\n",
      "    return self._post(url=url, payload=payload)\n",
      "  File \"/usr/local/lib/python2.7/site-packages/bioblend-0.9.0-py2.7.egg/bioblend/galaxy/client.py\", line 160, in _post\n",
      "    files_attached=files_attached)\n",
      "  File \"/usr/local/lib/python2.7/site-packages/bioblend-0.9.0-py2.7.egg/bioblend/galaxyclient.py\", line 141, in make_post_request\n",
      "    body=r.text, status_code=r.status_code)\n",
      "ConnectionError: Unexpected HTTP status code: 403: {\"err_msg\": \"Provided API key has expired.\", \"err_code\": 403001}\n",
      "\n",
      "----------------------------------------------------------------------\n",
      "Ran 1 test in 0.081s\n",
      "\n",
      "FAILED (errors=1)\n"
     ]
    }
   ],
   "source": [
    "wft4galaxy -f ../examples/change_case/workflow-test.yml"
   ]
  },
  {
   "cell_type": "markdown",
   "metadata": {},
   "source": [
    "Notice that if the name of your *test-definition-file* is ``workflow-test-suite.yml`` and it is in your current working directory, you can ommit the option ``-f <...>`` and run the test above by simply typing ``wft4galaxy`` from your current path."
   ]
  },
  {
   "cell_type": "markdown",
   "metadata": {},
   "source": [
    "As you can see in the call [1] above, the default behaviour of the **wft4galaxy** tool is to run tests with a minimal output, showing the executed tests and which of them succeeded or failed. To display more information about the test execution you can enable logs, using one of the following options:\n",
    "\n",
    "    --enable-logger           Enable INFO level logs \n",
    "    --debug                   Show more details using DEBUG level logs"
   ]
  },
  {
   "cell_type": "code",
   "execution_count": 3,
   "metadata": {},
   "outputs": [
    {
     "name": "stdout",
     "output_type": "stream",
     "text": [
      "2017-03-29 16:54:57,414 [wft4galaxy] [ INFO]  Configuration: <wft4galaxy.core.WorkflowTestSuite object at 0x10d4e01d0>\n",
      "Workflow Test: 'change_case' ... 2017-03-29 16:54:58,434 [wft4galaxy] [ INFO]  Create a history '_WorkflowTestHistory_ad44de7a-148f-11e7-a76d-a8667f33b7fc' (id: '84ffe6fca6c4fbda')\n",
      "2017-03-29 16:54:59,798 [wft4galaxy] [ INFO]  Workflow '_WorkflowTest_Change Case (imported from API)' (id: f3a63b25ef201245) running ...\n",
      "2017-03-29 16:55:04,081 [wft4galaxy] [ INFO]  waiting for datasets\n",
      "2017-03-29 16:55:04,304 [wft4galaxy] [ INFO]  6e7233e069aad1a7: new\n",
      "2017-03-29 16:55:06,861 [wft4galaxy] [ INFO]  6e7233e069aad1a7: queued\n",
      "2017-03-29 16:55:07,608 [wft4galaxy] [ INFO]  6e7233e069aad1a7: ok\n",
      "2017-03-29 16:55:08,113 [wft4galaxy] [ INFO]  Workflow '_WorkflowTest_Change Case (imported from API)' (id: f3a63b25ef201245) executed\n",
      "2017-03-29 16:55:08,114 [wft4galaxy] [ INFO]  Checking test output: ...\n",
      "2017-03-29 16:55:08,309 [wft4galaxy] [ INFO]  Checking test output: DONE\n",
      "ok\n",
      "\n",
      "----------------------------------------------------------------------\n",
      "Ran 1 test in 11.289s\n",
      "\n",
      "OK\n"
     ]
    }
   ],
   "source": [
    "wft4galaxy -f ../examples/change_case/workflow-test.yml --enable-logger"
   ]
  },
  {
   "cell_type": "markdown",
   "metadata": {},
   "source": [
    "Another useful option to deeply inspect the output of a test execution (especially when failed) is ``--disable-cleanup``, which tells wft4galaxy to not clean all intermediate files produced during its execution. All of them (logs and workflow output datasets) are stored in the ``./results`` output folder, but you can set your preferred target folder with the option ``-o <YOUR_FOLDER>`` (short form of ``--output <YOUR_FOLDER>``)."
   ]
  },
  {
   "cell_type": "code",
   "execution_count": 7,
   "metadata": {},
   "outputs": [
    {
     "name": "stdout",
     "output_type": "stream",
     "text": [
      "2017-03-29 17:38:56,728 [wft4galaxy] [ INFO]  Configuration: <wft4galaxy.core.WorkflowTestSuite object at 0x105075c90>\n",
      "Workflow Test: 'change_case' ... 2017-03-29 17:38:57,567 [wft4galaxy] [ INFO]  Create a history '_WorkflowTestHistory_d26878f8-1495-11e7-95a7-a8667f33b7fc' (id: u'6ee95371d25d237b')\n",
      "2017-03-29 17:38:58,910 [wft4galaxy] [ INFO]  Workflow '_WorkflowTest_Change Case (imported from API)' (id: 7ca8f1b7f24e5a2d) running ...\n",
      "2017-03-29 17:39:03,114 [wft4galaxy] [ INFO]  waiting for datasets\n",
      "2017-03-29 17:39:03,501 [wft4galaxy] [ INFO]  c389501033f7c311: new\n",
      "2017-03-29 17:39:04,420 [wft4galaxy] [ INFO]  c389501033f7c311: queued\n",
      "2017-03-29 17:39:05,506 [wft4galaxy] [ INFO]  c389501033f7c311: queued\n",
      "2017-03-29 17:39:06,229 [wft4galaxy] [ INFO]  c389501033f7c311: running\n",
      "2017-03-29 17:39:06,864 [wft4galaxy] [ INFO]  c389501033f7c311: running\n",
      "2017-03-29 17:39:07,806 [wft4galaxy] [ INFO]  c389501033f7c311: ok\n",
      "2017-03-29 17:39:08,309 [wft4galaxy] [ INFO]  Workflow '_WorkflowTest_Change Case (imported from API)' (id: 7ca8f1b7f24e5a2d) executed\n",
      "2017-03-29 17:39:08,309 [wft4galaxy] [ INFO]  Checking test output: ...\n",
      "2017-03-29 17:39:08,442 [wft4galaxy] [ INFO]  Checking test output: DONE\n",
      "ok\n",
      "\n",
      "----------------------------------------------------------------------\n",
      "Ran 1 test in 11.714s\n",
      "\n",
      "OK\n"
     ]
    }
   ],
   "source": [
    "wft4galaxy -f ../examples/change_case/workflow-test.yml --enable-logger -o change_case_results --disable-cleanup"
   ]
  },
  {
   "cell_type": "markdown",
   "metadata": {},
   "source": [
    "The resulting ``change_case_results`` folder will contain:\n",
    "\n",
    "  1) test-suite level logs (i.e., a global log file for the test suite):"
   ]
  },
  {
   "cell_type": "code",
   "execution_count": 18,
   "metadata": {},
   "outputs": [
    {
     "name": "stdout",
     "output_type": "stream",
     "text": [
      "change_case_results/20170329@171841.log\tchange_case_results/20170329@173856.log\n"
     ]
    }
   ],
   "source": [
    "ls change_case_results/*.log"
   ]
  },
  {
   "cell_type": "markdown",
   "metadata": {},
   "source": [
    "  2) test-case level logs and output datasets (i.e., a log file specific for the test case and the datasets generated as output during the workflow execution):"
   ]
  },
  {
   "cell_type": "code",
   "execution_count": 13,
   "metadata": {},
   "outputs": [
    {
     "name": "stdout",
     "output_type": "stream",
     "text": [
      "20170329@173857.log\tOutputText\n"
     ]
    }
   ],
   "source": [
    "ls change_case_results/change_case"
   ]
  }
 ],
 "metadata": {
  "kernelspec": {
   "display_name": "Bash",
   "language": "bash",
   "name": "bash"
  },
  "language_info": {
   "codemirror_mode": "shell",
   "file_extension": ".sh",
   "mimetype": "text/x-sh",
   "name": "bash"
  }
 },
 "nbformat": 4,
 "nbformat_minor": 2
}
